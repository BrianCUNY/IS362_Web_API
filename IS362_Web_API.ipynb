{
 "cells": [
  {
   "cell_type": "code",
   "execution_count": 1,
   "metadata": {},
   "outputs": [],
   "source": [
    "# Needed to install pynytimes - a python library created for working with NYTimes APIs.\n",
    "# pip install pynytimes"
   ]
  },
  {
   "cell_type": "code",
   "execution_count": 5,
   "metadata": {},
   "outputs": [],
   "source": [
    "import json\n",
    "import pandas as pd\n",
    "import numpy as np\n",
    "from pynytimes import NYTAPI"
   ]
  },
  {
   "cell_type": "code",
   "execution_count": 6,
   "metadata": {},
   "outputs": [],
   "source": [
    "# Connecting to NYTimes Books API via pynytimes NYTAPI object.\n",
    "# Key pulled from NYT Developer Portal\n",
    "nyt = NYTAPI(\"07uel22egS3QO6FwcilHzoMPxFRLlm9n\", parse_dates=True)"
   ]
  },
  {
   "cell_type": "code",
   "execution_count": 7,
   "metadata": {},
   "outputs": [],
   "source": [
    "# Pulling reviews for all books by author via built in author object for my favorite author.\n",
    "reviews = nyt.book_reviews(author = \"Yuval Noah Harari\")"
   ]
  },
  {
   "cell_type": "code",
   "execution_count": 8,
   "metadata": {},
   "outputs": [
    {
     "data": {
      "text/plain": [
       "[{'url': 'http://www.nytimes.com/2017/03/13/books/review/yuval-noah-harari-homo-deus.html',\n",
       "  'publication_dt': datetime.date(2017, 3, 13),\n",
       "  'byline': 'SIDDHARTHA MUKHERJEE',\n",
       "  'book_title': 'Homo Deus',\n",
       "  'book_author': 'Yuval Noah Harari',\n",
       "  'summary': 'In “Homo Deus,” Yuval Noah Harari suggests the natural end of the scientific revolution might be human obsolescence.',\n",
       "  'uuid': '00000000-0000-0000-0000-000000000000',\n",
       "  'uri': 'nyt://book/00000000-0000-0000-0000-000000000000',\n",
       "  'isbn13': ['9780062464316']},\n",
       " {'url': 'https://www.nytimes.com/2018/09/04/books/review/21-lessons-for-the-21st-century-yuval-noah-harari.html',\n",
       "  'publication_dt': datetime.date(2018, 9, 4),\n",
       "  'byline': 'BILL GATES',\n",
       "  'book_title': '21 Lessons for the 21st Century',\n",
       "  'book_author': 'Yuval Noah Harari',\n",
       "  'summary': 'In “21 Lessons for the 21st Century,” Yuval Noah Harari’s latest book, the historian takes on everything from terrorism to inequality.',\n",
       "  'uuid': '00000000-0000-0000-0000-000000000000',\n",
       "  'uri': 'nyt://book/00000000-0000-0000-0000-000000000000',\n",
       "  'isbn13': ['9780525512172']}]"
      ]
     },
     "metadata": {},
     "output_type": "display_data"
    }
   ],
   "source": [
    "# Displaying data pulled from API.\n",
    "display(reviews)"
   ]
  },
  {
   "cell_type": "code",
   "execution_count": 11,
   "metadata": {},
   "outputs": [
    {
     "data": {
      "text/html": [
       "<div>\n",
       "<style scoped>\n",
       "    .dataframe tbody tr th:only-of-type {\n",
       "        vertical-align: middle;\n",
       "    }\n",
       "\n",
       "    .dataframe tbody tr th {\n",
       "        vertical-align: top;\n",
       "    }\n",
       "\n",
       "    .dataframe thead th {\n",
       "        text-align: right;\n",
       "    }\n",
       "</style>\n",
       "<table border=\"1\" class=\"dataframe\">\n",
       "  <thead>\n",
       "    <tr style=\"text-align: right;\">\n",
       "      <th></th>\n",
       "      <th>url</th>\n",
       "      <th>publication_dt</th>\n",
       "      <th>byline</th>\n",
       "      <th>book_title</th>\n",
       "      <th>book_author</th>\n",
       "      <th>summary</th>\n",
       "      <th>uuid</th>\n",
       "      <th>uri</th>\n",
       "      <th>isbn13</th>\n",
       "    </tr>\n",
       "  </thead>\n",
       "  <tbody>\n",
       "    <tr>\n",
       "      <th>0</th>\n",
       "      <td>http://www.nytimes.com/2017/03/13/books/review...</td>\n",
       "      <td>2017-03-13</td>\n",
       "      <td>SIDDHARTHA MUKHERJEE</td>\n",
       "      <td>Homo Deus</td>\n",
       "      <td>Yuval Noah Harari</td>\n",
       "      <td>In “Homo Deus,” Yuval Noah Harari suggests the...</td>\n",
       "      <td>00000000-0000-0000-0000-000000000000</td>\n",
       "      <td>nyt://book/00000000-0000-0000-0000-000000000000</td>\n",
       "      <td>[9780062464316]</td>\n",
       "    </tr>\n",
       "    <tr>\n",
       "      <th>1</th>\n",
       "      <td>https://www.nytimes.com/2018/09/04/books/revie...</td>\n",
       "      <td>2018-09-04</td>\n",
       "      <td>BILL GATES</td>\n",
       "      <td>21 Lessons for the 21st Century</td>\n",
       "      <td>Yuval Noah Harari</td>\n",
       "      <td>In “21 Lessons for the 21st Century,” Yuval No...</td>\n",
       "      <td>00000000-0000-0000-0000-000000000000</td>\n",
       "      <td>nyt://book/00000000-0000-0000-0000-000000000000</td>\n",
       "      <td>[9780525512172]</td>\n",
       "    </tr>\n",
       "  </tbody>\n",
       "</table>\n",
       "</div>"
      ],
      "text/plain": [
       "                                                 url publication_dt  \\\n",
       "0  http://www.nytimes.com/2017/03/13/books/review...     2017-03-13   \n",
       "1  https://www.nytimes.com/2018/09/04/books/revie...     2018-09-04   \n",
       "\n",
       "                 byline                       book_title        book_author  \\\n",
       "0  SIDDHARTHA MUKHERJEE                        Homo Deus  Yuval Noah Harari   \n",
       "1            BILL GATES  21 Lessons for the 21st Century  Yuval Noah Harari   \n",
       "\n",
       "                                             summary  \\\n",
       "0  In “Homo Deus,” Yuval Noah Harari suggests the...   \n",
       "1  In “21 Lessons for the 21st Century,” Yuval No...   \n",
       "\n",
       "                                   uuid  \\\n",
       "0  00000000-0000-0000-0000-000000000000   \n",
       "1  00000000-0000-0000-0000-000000000000   \n",
       "\n",
       "                                               uri           isbn13  \n",
       "0  nyt://book/00000000-0000-0000-0000-000000000000  [9780062464316]  \n",
       "1  nyt://book/00000000-0000-0000-0000-000000000000  [9780525512172]  "
      ]
     },
     "metadata": {},
     "output_type": "display_data"
    }
   ],
   "source": [
    "#df = pd.read_json(reviews) - does not work, data is in list format, no need to convert.\n",
    "df = pd.DataFrame(reviews)\n",
    "display(df)"
   ]
  },
  {
   "cell_type": "code",
   "execution_count": 12,
   "metadata": {},
   "outputs": [
    {
     "data": {
      "text/html": [
       "<div>\n",
       "<style scoped>\n",
       "    .dataframe tbody tr th:only-of-type {\n",
       "        vertical-align: middle;\n",
       "    }\n",
       "\n",
       "    .dataframe tbody tr th {\n",
       "        vertical-align: top;\n",
       "    }\n",
       "\n",
       "    .dataframe thead th {\n",
       "        text-align: right;\n",
       "    }\n",
       "</style>\n",
       "<table border=\"1\" class=\"dataframe\">\n",
       "  <thead>\n",
       "    <tr style=\"text-align: right;\">\n",
       "      <th></th>\n",
       "      <th>url</th>\n",
       "      <th>publication_dt</th>\n",
       "      <th>byline</th>\n",
       "      <th>book_title</th>\n",
       "      <th>book_author</th>\n",
       "      <th>summary</th>\n",
       "      <th>isbn13</th>\n",
       "    </tr>\n",
       "  </thead>\n",
       "  <tbody>\n",
       "    <tr>\n",
       "      <th>0</th>\n",
       "      <td>http://www.nytimes.com/2017/03/13/books/review...</td>\n",
       "      <td>2017-03-13</td>\n",
       "      <td>SIDDHARTHA MUKHERJEE</td>\n",
       "      <td>Homo Deus</td>\n",
       "      <td>Yuval Noah Harari</td>\n",
       "      <td>In “Homo Deus,” Yuval Noah Harari suggests the...</td>\n",
       "      <td>[9780062464316]</td>\n",
       "    </tr>\n",
       "    <tr>\n",
       "      <th>1</th>\n",
       "      <td>https://www.nytimes.com/2018/09/04/books/revie...</td>\n",
       "      <td>2018-09-04</td>\n",
       "      <td>BILL GATES</td>\n",
       "      <td>21 Lessons for the 21st Century</td>\n",
       "      <td>Yuval Noah Harari</td>\n",
       "      <td>In “21 Lessons for the 21st Century,” Yuval No...</td>\n",
       "      <td>[9780525512172]</td>\n",
       "    </tr>\n",
       "  </tbody>\n",
       "</table>\n",
       "</div>"
      ],
      "text/plain": [
       "                                                 url publication_dt  \\\n",
       "0  http://www.nytimes.com/2017/03/13/books/review...     2017-03-13   \n",
       "1  https://www.nytimes.com/2018/09/04/books/revie...     2018-09-04   \n",
       "\n",
       "                 byline                       book_title        book_author  \\\n",
       "0  SIDDHARTHA MUKHERJEE                        Homo Deus  Yuval Noah Harari   \n",
       "1            BILL GATES  21 Lessons for the 21st Century  Yuval Noah Harari   \n",
       "\n",
       "                                             summary           isbn13  \n",
       "0  In “Homo Deus,” Yuval Noah Harari suggests the...  [9780062464316]  \n",
       "1  In “21 Lessons for the 21st Century,” Yuval No...  [9780525512172]  "
      ]
     },
     "metadata": {},
     "output_type": "display_data"
    }
   ],
   "source": [
    "# Deleting unneccesary columns.\n",
    "del df['uuid']\n",
    "del df['uri']\n",
    "display(df)"
   ]
  },
  {
   "cell_type": "code",
   "execution_count": null,
   "metadata": {},
   "outputs": [],
   "source": []
  }
 ],
 "metadata": {
  "kernelspec": {
   "display_name": "Python 3",
   "language": "python",
   "name": "python3"
  },
  "language_info": {
   "codemirror_mode": {
    "name": "ipython",
    "version": 3
   },
   "file_extension": ".py",
   "mimetype": "text/x-python",
   "name": "python",
   "nbconvert_exporter": "python",
   "pygments_lexer": "ipython3",
   "version": "3.8.5"
  }
 },
 "nbformat": 4,
 "nbformat_minor": 4
}
